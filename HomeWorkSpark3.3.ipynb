{
 "cells": [
  {
   "cell_type": "code",
   "execution_count": 1,
   "id": "a40fcc28",
   "metadata": {},
   "outputs": [
    {
     "data": {
      "text/plain": [
       "'C:\\\\spark\\\\spark-3.3.1-bin-hadoop3'"
      ]
     },
     "execution_count": 1,
     "metadata": {},
     "output_type": "execute_result"
    }
   ],
   "source": [
    "import findspark\n",
    "findspark.init()\n",
    "findspark.find()\n",
    "import pyspark\n",
    "findspark.find()"
   ]
  },
  {
   "cell_type": "code",
   "execution_count": 2,
   "id": "fdbedd33",
   "metadata": {},
   "outputs": [],
   "source": [
    "import pyspark\n",
    "from pyspark.sql import SparkSession"
   ]
  },
  {
   "cell_type": "code",
   "execution_count": 3,
   "id": "91e10eff",
   "metadata": {},
   "outputs": [],
   "source": [
    "from pyspark.sql.functions import *"
   ]
  },
  {
   "cell_type": "code",
   "execution_count": 4,
   "id": "fb33f4c7",
   "metadata": {},
   "outputs": [],
   "source": [
    "import pyspark.sql.types as T"
   ]
  },
  {
   "cell_type": "code",
   "execution_count": 5,
   "id": "31ea9abc",
   "metadata": {},
   "outputs": [],
   "source": [
    "spark = SparkSession.builder.master(\"local\"). \\\n",
    "                    appName(\"HW3.3 Spark\").\\\n",
    "                    config(\"spark.driver.bindAdress\", \"localhost\"). \\\n",
    "                    config(\"spark.ui.port\", \"4040\"). \\\n",
    "                    getOrCreate()"
   ]
  },
  {
   "cell_type": "code",
   "execution_count": 6,
   "id": "0274feeb",
   "metadata": {},
   "outputs": [],
   "source": [
    "schema = StructType ([\n",
    "    T.StructField(\"id\", T.IntegerType(), True),\n",
    "    T.StructField(\"timestamp\", T.IntegerType(), True),\n",
    "    T.StructField(\"type\", T.StringType(), True),\n",
    "    T.StructField(\"page_id\", T.IntegerType(), True),\n",
    "    T.StructField(\"tag\", T.StringType(), True),\n",
    "    T.StructField(\"sign\", T.BooleanType(), True)\n",
    "])"
   ]
  },
  {
   "cell_type": "code",
   "execution_count": 7,
   "id": "861459b1",
   "metadata": {},
   "outputs": [],
   "source": [
    "data = [\n",
    "    (1, 1662485039,\"visit\",112,\"Good versus evil\", True),\n",
    "    (2, 1591291439,\"click\",100,\"Redemption\", True),\n",
    "    (3, 1591291439,\"scroll\",111,\"Courage and Heroism\", False),\n",
    "    (4, 1541352239,\"visit\",112,\"Sport\", True),\n",
    "    (5, 1662485039,\"visit\",111,\"Love\", True),\n",
    "    (3, 1662485039,\"visit\",112,\"Good versus evil\", False),\n",
    "    (2, 1654363439,\"scroll\",100,\"Redemption\", True),\n",
    "    (2, 1528133039,\"click\",111,\"Love\", True),\n",
    "    (7, 1528133039,\"click\",100,\"Courage and Heroism\", False),\n",
    "    (11, 1654363439,\"move\",100,\"Redemption\", False)\n",
    "  ]"
   ]
  },
  {
   "cell_type": "code",
   "execution_count": 8,
   "id": "01e770cf",
   "metadata": {},
   "outputs": [],
   "source": [
    "df = spark.createDataFrame(data=data, schema=schema).show()"
   ]
  },
  {
   "cell_type": "markdown",
   "id": "e3ba51cb",
   "metadata": {},
   "source": [
    "5 most active visiters"
   ]
  },
  {
   "cell_type": "code",
   "execution_count": 9,
   "id": "f8780e57",
   "metadata": {},
   "outputs": [
    {
     "name": "stdout",
     "output_type": "stream",
     "text": [
      "+---+-----+\n",
      "| id|count|\n",
      "+---+-----+\n",
      "|  2|    3|\n",
      "|  3|    2|\n",
      "|  1|    1|\n",
      "|  5|    1|\n",
      "|  7|    1|\n",
      "+---+-----+\n",
      "only showing top 5 rows\n",
      "\n"
     ]
    }
   ],
   "source": [
    "df.groupBy(\"id\").count().orderBy(col(\"count\").desc()).show(5)"
   ]
  },
  {
   "cell_type": "markdown",
   "id": "065e75b1",
   "metadata": {},
   "source": [
    "Percent visiters with account"
   ]
  },
  {
   "cell_type": "code",
   "execution_count": 10,
   "id": "100174d8",
   "metadata": {},
   "outputs": [
    {
     "data": {
      "text/plain": [
       "0.5714285714285714"
      ]
     },
     "execution_count": 10,
     "metadata": {},
     "output_type": "execute_result"
    }
   ],
   "source": [
    "df.filter(col(\"sign\") == \"true\").select(countDistinct(\"id\")).first()[0] / df.select(countDistinct(\"id\")).first()[0]"
   ]
  },
  {
   "cell_type": "markdown",
   "id": "0e41ee0b",
   "metadata": {},
   "source": [
    "5 most clicked pages"
   ]
  },
  {
   "cell_type": "code",
   "execution_count": 11,
   "id": "95cf7fda",
   "metadata": {},
   "outputs": [
    {
     "name": "stdout",
     "output_type": "stream",
     "text": [
      "+-------+-----+\n",
      "|page_id|count|\n",
      "+-------+-----+\n",
      "|    100|    2|\n",
      "|    111|    1|\n",
      "+-------+-----+\n",
      "\n"
     ]
    }
   ],
   "source": [
    "df.filter(col(\"type\") == \"click\").groupBy(\"page_id\").count().orderBy(col(\"count\").desc()).show()"
   ]
  },
  {
   "cell_type": "markdown",
   "id": "eee61612",
   "metadata": {},
   "source": [
    "add col with a time range value within a day with a window size of 4 hours "
   ]
  },
  {
   "cell_type": "code",
   "execution_count": 21,
   "id": "bff4219a",
   "metadata": {},
   "outputs": [],
   "source": [
    "df = df.withColumn(\"tsDate\", col(\"timestamp\").cast(T.TimestampType()))"
   ]
  },
  {
   "cell_type": "code",
   "execution_count": 22,
   "id": "26f9f81c",
   "metadata": {},
   "outputs": [],
   "source": [
    "df = df.withColumn('time', date_format('tsDate', 'HH:mm:ss'))"
   ]
  },
  {
   "cell_type": "code",
   "execution_count": 23,
   "id": "a202f337",
   "metadata": {},
   "outputs": [],
   "source": [
    "df = df.withColumn('time', split(df['time'], ':').getItem(0).cast(T.IntegerType()))"
   ]
  },
  {
   "cell_type": "code",
   "execution_count": 24,
   "id": "e5991e47",
   "metadata": {},
   "outputs": [
    {
     "name": "stdout",
     "output_type": "stream",
     "text": [
      "+---+----------+------+-------+-------------------+-----+-------------------+----+----------+\n",
      "| id| timestamp|  type|page_id|                tag| sign|             tsDate|time|time_range|\n",
      "+---+----------+------+-------+-------------------+-----+-------------------+----+----------+\n",
      "|  1|1662485039| visit|    112|   Good versus evil| true|2022-09-06 20:23:59|  20|     20-24|\n",
      "|  2|1591291439| click|    100|         Redemption| true|2020-06-04 20:23:59|  20|     20-24|\n",
      "|  3|1591291439|scroll|    111|Courage and Heroism|false|2020-06-04 20:23:59|  20|     20-24|\n",
      "|  4|1541352239| visit|    112|              Sport| true|2018-11-04 20:23:59|  20|     20-24|\n",
      "|  5|1662485039| visit|    111|               Love| true|2022-09-06 20:23:59|  20|     20-24|\n",
      "|  3|1662485039| visit|    112|   Good versus evil|false|2022-09-06 20:23:59|  20|     20-24|\n",
      "|  2|1654363439|scroll|    100|         Redemption| true|2022-06-04 20:23:59|  20|     20-24|\n",
      "|  2|1528133039| click|    111|               Love| true|2018-06-04 20:23:59|  20|     20-24|\n",
      "|  7|1528133039| click|    100|Courage and Heroism|false|2018-06-04 20:23:59|  20|     20-24|\n",
      "| 11|1654363439|  move|    100|         Redemption|false|2022-06-04 20:23:59|  20|     20-24|\n",
      "+---+----------+------+-------+-------------------+-----+-------------------+----+----------+\n",
      "\n"
     ]
    }
   ],
   "source": [
    "df = df.withColumn(\"time_range\", when((df.time >= 0) & (df.time <4) ,\"0-4\")\n",
    "                                 .when((df.time >= 4) & (df.time <8) ,\"4-8\")\n",
    "                                 .when((df.time >= 8) & (df.time <12) ,\"8-12\")\n",
    "                                 .when((df.time >= 12) & (df.time <16) ,\"12-16\")\n",
    "                                 .when((df.time >= 16) & (df.time <20) ,\"16-20\")\n",
    "                                 .when((df.time >= 20) & (df.time <24) ,\"20-24\")\n",
    "                                 .otherwise(df.time))\n",
    "df.show()"
   ]
  },
  {
   "cell_type": "markdown",
   "id": "08256a84",
   "metadata": {},
   "source": [
    "most active time range"
   ]
  },
  {
   "cell_type": "code",
   "execution_count": 25,
   "id": "c0e8bfa8",
   "metadata": {},
   "outputs": [
    {
     "name": "stdout",
     "output_type": "stream",
     "text": [
      "+----------+-----+\n",
      "|time_range|count|\n",
      "+----------+-----+\n",
      "|     20-24|   10|\n",
      "+----------+-----+\n",
      "\n"
     ]
    }
   ],
   "source": [
    "df.groupBy(\"time_range\").count().orderBy(col(\"count\").desc()).show(1)"
   ]
  },
  {
   "cell_type": "markdown",
   "id": "8f50d396",
   "metadata": {},
   "source": [
    "new data frame with user's account info"
   ]
  },
  {
   "cell_type": "code",
   "execution_count": 26,
   "id": "7fe364b8",
   "metadata": {},
   "outputs": [],
   "source": [
    "account_schema = StructType ([\n",
    "    T.StructField(\"id\", T.IntegerType(), True),\n",
    "    T.StructField(\"user_id\", T.IntegerType(), True),\n",
    "    T.StructField(\"name\", T.StringType(), True),\n",
    "    T.StructField(\"dob\", T.StringType(), True),\n",
    "    T.StructField(\"create_acc_date\", T.StringType(), True),\n",
    "])"
   ]
  },
  {
   "cell_type": "code",
   "execution_count": 27,
   "id": "eace44df",
   "metadata": {},
   "outputs": [],
   "source": [
    "account_data = [\n",
    "    (1, 1,\"Austen Bierd\",\"1977-03-06\",\"2005-06-06\"),\n",
    "    (2, 2,\"Baron Barrington\",\"1984-04-03\",\"2008-03-18\"),\n",
    "    (3, 4,\"Blake Burkhardt\",\"2001-02-06\",\"2015-03-06\"),\n",
    "    (4, 5,\"Emma Finley\",\"2001-09-03\",\"2020-01-12\")\n",
    "  ]"
   ]
  },
  {
   "cell_type": "code",
   "execution_count": 28,
   "id": "90b882f5",
   "metadata": {},
   "outputs": [],
   "source": [
    "account_df = spark.createDataFrame(data=account_data, schema=account_schema)"
   ]
  },
  {
   "cell_type": "markdown",
   "id": "5fd51767",
   "metadata": {},
   "source": [
    "users, who read the sport news"
   ]
  },
  {
   "cell_type": "code",
   "execution_count": 30,
   "id": "7792d3d4",
   "metadata": {},
   "outputs": [
    {
     "name": "stdout",
     "output_type": "stream",
     "text": [
      "+---------------+\n",
      "|           name|\n",
      "+---------------+\n",
      "|Blake Burkhardt|\n",
      "+---------------+\n",
      "\n"
     ]
    }
   ],
   "source": [
    "df.join(account_df, df.id == account_df.user_id).filter(col(\"tag\") == \"Sport\").select(col(\"name\")).distinct().show()"
   ]
  },
  {
   "cell_type": "code",
   "execution_count": null,
   "id": "ccd95c06",
   "metadata": {},
   "outputs": [],
   "source": []
  }
 ],
 "metadata": {
  "kernelspec": {
   "display_name": "Python 3",
   "language": "python",
   "name": "python3"
  },
  "language_info": {
   "codemirror_mode": {
    "name": "ipython",
    "version": 3
   },
   "file_extension": ".py",
   "mimetype": "text/x-python",
   "name": "python",
   "nbconvert_exporter": "python",
   "pygments_lexer": "ipython3",
   "version": "3.8.8"
  }
 },
 "nbformat": 4,
 "nbformat_minor": 5
}
